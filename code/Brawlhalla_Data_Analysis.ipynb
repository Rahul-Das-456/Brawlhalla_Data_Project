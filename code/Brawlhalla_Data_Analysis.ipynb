{
  "nbformat": 4,
  "nbformat_minor": 0,
  "metadata": {
    "colab": {
      "name": "Brawlhalla Data Analysis.ipynb",
      "provenance": []
    },
    "kernelspec": {
      "name": "python3",
      "display_name": "Python 3"
    },
    "language_info": {
      "name": "python"
    }
  },
  "cells": [
    {
      "cell_type": "code",
      "execution_count": 17,
      "metadata": {
        "id": "eblTEnjwafsC"
      },
      "outputs": [],
      "source": [
        "import numpy\n",
        "import pandas as pd\n",
        "import seaborn as sns\n",
        "from numpy import arange\n",
        "from matplotlib import pyplot as plt\n",
        "from pandas import read_csv\n",
        "from pandas import set_option\n",
        "from pandas.plotting import scatter_matrix\n",
        "from sklearn.preprocessing import StandardScaler\n",
        "from sklearn.model_selection import train_test_split\n",
        "from sklearn.model_selection import KFold\n",
        "from sklearn.model_selection import cross_val_score\n",
        "from sklearn.model_selection import GridSearchCV\n",
        "from sklearn.linear_model import LinearRegression\n",
        "from sklearn.linear_model import Lasso\n",
        "from sklearn.linear_model import ElasticNet\n",
        "from sklearn.tree import DecisionTreeRegressor\n",
        "from sklearn.neighbors import KNeighborsRegressor\n",
        "from sklearn.svm import SVR"
      ]
    },
    {
      "cell_type": "code",
      "source": [
        "brawlhalla_data = pd.read_csv(\"brawlhalla.csv\")\n",
        "print(brawlhalla_data.shape)"
      ],
      "metadata": {
        "colab": {
          "base_uri": "https://localhost:8080/"
        },
        "id": "FkUFutvJalvr",
        "outputId": "889613e0-3bef-4fa8-bcab-03d471ed923e"
      },
      "execution_count": 3,
      "outputs": [
        {
          "output_type": "stream",
          "name": "stdout",
          "text": [
            "(55, 8)\n"
          ]
        }
      ]
    },
    {
      "cell_type": "code",
      "source": [
        "#Histogram and boxplot of strength\n",
        "sns.histplot(data = brawlhalla_data, x = \"strength\")\n",
        "plt.show()\n",
        "\n",
        "sns.boxplot(data = brawlhalla_data, x = \"strength\")\n",
        "plt.show()"
      ],
      "metadata": {
        "colab": {
          "base_uri": "https://localhost:8080/",
          "height": 541
        },
        "id": "gzGYlM8cbGoA",
        "outputId": "5bee5eb0-74d3-4e6e-ebce-9fb1ff2f1caa"
      },
      "execution_count": 14,
      "outputs": [
        {
          "output_type": "display_data",
          "data": {
            "text/plain": [
              "<Figure size 432x288 with 1 Axes>"
            ],
            "image/png": "[encoded data removed]"
          },
          "metadata": {
            "needs_background": "light"
          }
        },
        {
          "output_type": "display_data",
          "data": {
            "text/plain": [
              "<Figure size 432x288 with 1 Axes>"
            ],
            "image/png": "[encoded data removed]"
          },
          "metadata": {
            "needs_background": "light"
          }
        }
      ]
    },
    {
      "cell_type": "code",
      "source": [
        "#Histogram and boxplot of dexterity\n",
        "\n",
        "sns.histplot(data = brawlhalla_data, x = \"dexterity\")\n",
        "plt.show()\n",
        "\n",
        "sns.boxplot(data = brawlhalla_data, x = \"dexterity\")\n",
        "plt.show()\n"
      ],
      "metadata": {
        "colab": {
          "base_uri": "https://localhost:8080/",
          "height": 541
        },
        "id": "JNLoz7_xbGrY",
        "outputId": "6565b73a-6440-411f-cd6c-5948d866c6cc"
      },
      "execution_count": 6,
      "outputs": [
        {
          "output_type": "display_data",
          "data": {
            "text/plain": [
              "<Figure size 432x288 with 1 Axes>"
            ],
            "image/png": "[encoded data removed]"
          },
          "metadata": {
            "needs_background": "light"
          }
        },
        {
          "output_type": "display_data",
          "data": {
            "text/plain": [
              "<Figure size 432x288 with 1 Axes>"
            ],
            "image/png": "[encoded data removed]"
          },
          "metadata": {
            "needs_background": "light"
          }
        }
      ]
    },
    {
      "cell_type": "code",
      "source": [
        "#Histogram and boxplot of defence\n",
        "sns.histplot(data = brawlhalla_data, x = \"defence\")\n",
        "plt.show()\n",
        "\n",
        "sns.boxplot(data = brawlhalla_data, x = \"defence\")\n",
        "plt.show()"
      ],
      "metadata": {
        "colab": {
          "base_uri": "https://localhost:8080/",
          "height": 541
        },
        "id": "ndY6xXFdbGvC",
        "outputId": "9c142ddc-1097-4316-a2a9-5310b6601710"
      },
      "execution_count": 15,
      "outputs": [
        {
          "output_type": "display_data",
          "data": {
            "text/plain": [
              "<Figure size 432x288 with 1 Axes>"
            ],
            "image/png": "[encoded data removed]"
          },
          "metadata": {
            "needs_background": "light"
          }
        },
        {
          "output_type": "display_data",
          "data": {
            "text/plain": [
              "<Figure size 432x288 with 1 Axes>"
            ],
            "image/png": "[encoded data removed]"
          },
          "metadata": {
            "needs_background": "light"
          }
        }
      ]
    },
    {
      "cell_type": "code",
      "source": [
        "#Histogram and boxplot of speed\n",
        "\n",
        "sns.histplot(data = brawlhalla_data, x = \"speed\")\n",
        "plt.show()\n",
        "\n",
        "sns.boxplot(data = brawlhalla_data, x = \"speed\")\n",
        "plt.show()\n",
        "\n"
      ],
      "metadata": {
        "colab": {
          "base_uri": "https://localhost:8080/",
          "height": 541
        },
        "id": "gjrspSGIbGxH",
        "outputId": "7291705d-6bc8-4600-a225-6495161baf00"
      },
      "execution_count": 16,
      "outputs": [
        {
          "output_type": "display_data",
          "data": {
            "text/plain": [
              "<Figure size 432x288 with 1 Axes>"
            ],
            "image/png": "[encoded data removed]"
          },
          "metadata": {
            "needs_background": "light"
          }
        },
        {
          "output_type": "display_data",
          "data": {
            "text/plain": [
              "<Figure size 432x288 with 1 Axes>"
            ],
            "image/png": "[encoded data removed]"
          },
          "metadata": {
            "needs_background": "light"
          }
        }
      ]
    },
    {
      "cell_type": "code",
      "source": [
        "#Histogram and boxplot of price\n",
        "\n",
        "sns.histplot(data = brawlhalla_data, x = \"price\")\n",
        "plt.show()\n",
        "\n",
        "sns.boxplot(data = brawlhalla_data, x = \"price\")\n",
        "plt.show()\n"
      ],
      "metadata": {
        "colab": {
          "base_uri": "https://localhost:8080/",
          "height": 541
        },
        "id": "-79jx2TJbZhi",
        "outputId": "bdd612e5-2970-4973-ea49-0ff5c8c1c73a"
      },
      "execution_count": 9,
      "outputs": [
        {
          "output_type": "display_data",
          "data": {
            "text/plain": [
              "<Figure size 432x288 with 1 Axes>"
            ],
            "image/png": "[encoded data removed]"
          },
          "metadata": {
            "needs_background": "light"
          }
        },
        {
          "output_type": "display_data",
          "data": {
            "text/plain": [
              "<Figure size 432x288 with 1 Axes>"
            ],
            "image/png": "[encoded data removed]"
          },
          "metadata": {
            "needs_background": "light"
          }
        }
      ]
    },
    {
      "cell_type": "code",
      "source": [
        "#Heatmap of features.\n",
        "\n",
        "sns.heatmap(brawlhalla_data.corr())\n",
        "plt.show()"
      ],
      "metadata": {
        "colab": {
          "base_uri": "https://localhost:8080/",
          "height": 269
        },
        "id": "4U-8fD3BbeH8",
        "outputId": "f5fa0f06-26ce-4f4f-a798-dda318c67e63"
      },
      "execution_count": 5,
      "outputs": [
        {
          "output_type": "display_data",
          "data": {
            "text/plain": [
              "<Figure size 432x288 with 2 Axes>"
            ],
            "image/png": "[encoded data removed]"
          },
          "metadata": {
            "needs_background": "light"
          }
        }
      ]
    },
    {
      "cell_type": "code",
      "source": [
        "#Cleaning the data to remove question marks.\n",
        "\n",
        "sns.countplot(x = \"gender\", data = brawlhalla_data)\n",
        "plt.show()\n",
        "\n",
        "brawlhalla_data[\"gender\"].replace(\"???\", \"Female\", inplace=True)\n",
        "\n",
        "sns.countplot(x = \"gender\", data = brawlhalla_data)\n",
        "plt.show()\n",
        "\n"
      ],
      "metadata": {
        "colab": {
          "base_uri": "https://localhost:8080/",
          "height": 543
        },
        "id": "lUHPl-7xblsI",
        "outputId": "33546fb1-bcda-457b-9f84-0baac12a3676"
      },
      "execution_count": 11,
      "outputs": [
        {
          "output_type": "display_data",
          "data": {
            "text/plain": [
              "<Figure size 432x288 with 1 Axes>"
            ],
            "image/png": "[encoded data removed]"
          },
          "metadata": {
            "needs_background": "light"
          }
        },
        {
          "output_type": "display_data",
          "data": {
            "text/plain": [
              "<Figure size 432x288 with 1 Axes>"
            ],
            "image/png": "[encoded data removed]"
          },
          "metadata": {
            "needs_background": "light"
          }
        }
      ]
    },
    {
      "cell_type": "code",
      "source": [
        "#Dropping the name and date released features as they won't help the model.\n",
        "\n",
        "dummies = pd.get_dummies(brawlhalla_data, columns = [\"gender\"])\n",
        "\n",
        "\n",
        "\n",
        "brawlhalla_data = brawlhalla_data.drop([\"name\", \"datereleased\"], axis=1)\n",
        "\n",
        "\n",
        "cleaned_data = pd.get_dummies(brawlhalla_data, columns = [\"gender\"])\n"
      ],
      "metadata": {
        "id": "ngj_KCZZbmo4"
      },
      "execution_count": 12,
      "outputs": []
    },
    {
      "cell_type": "code",
      "source": [
        "X = cleaned_data.drop([\"price\"], axis =1)\n",
        "Y = cleaned_data[\"price\"]\n",
        "validation_size = .20\n",
        "seed = 7\n",
        "X_train, X_validation, Y_train, Y_validation = train_test_split(X, Y,\n",
        "    test_size=validation_size, random_state=seed)\n",
        "# Test options and evaluation metric\n",
        "num_folds = 10\n",
        "seed = 7\n",
        "scoring = 'neg_mean_squared_error'\n",
        "\n",
        "\n",
        "# Spot-Check Algorithms\n",
        "models = []\n",
        "models.append(('LR', LinearRegression()))\n",
        "models.append(('LASSO', Lasso()))\n",
        "models.append(('EN', ElasticNet()))\n",
        "models.append(('KNN', KNeighborsRegressor()))\n",
        "models.append(('CART', DecisionTreeRegressor()))\n",
        "models.append(('SVR', SVR()))\n",
        "\n",
        "\n",
        "# evaluate each model in turn\n",
        "results = []\n",
        "names = []\n",
        "for name, model in models:\n",
        "  kfold = KFold(n_splits=num_folds, random_state=seed, shuffle= True)\n",
        "  cv_results = cross_val_score(model, X_train, Y_train, cv=kfold, scoring=scoring)\n",
        "  results.append(cv_results)\n",
        "  names.append(name)\n",
        "  msg = f\"{name}, {cv_results.mean()}, {cv_results.std()}\"\n",
        "  print(msg)\n",
        "  \n",
        "\n",
        "\n"
      ],
      "metadata": {
        "colab": {
          "base_uri": "https://localhost:8080/"
        },
        "id": "pfI9W16bbsTi",
        "outputId": "2a39d4a0-48f2-467b-e30f-ffcff07c02a2"
      },
      "execution_count": 13,
      "outputs": [
        {
          "output_type": "stream",
          "name": "stdout",
          "text": [
            "LR, -2441203.4112953045, 1377709.587753082\n",
            "LASSO, -2534889.8853472234, 1367794.9937041227\n",
            "EN, -2407193.712281717, 1297399.2180568536\n",
            "KNN, -2960054.0, 1605381.898317033\n",
            "CART, -4705950.0, 1843465.2078355046\n",
            "SVR, -3057264.119684097, 2319787.8560692985\n"
          ]
        }
      ]
    }
  ]
}